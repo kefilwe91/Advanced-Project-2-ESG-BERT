{
 "cells": [
  {
   "cell_type": "code",
   "execution_count": 70,
   "id": "436d8db4",
   "metadata": {},
   "outputs": [],
   "source": [
    "import pandas as pd\n",
    "import torch\n",
    "import numpy as np\n",
    "import matplotlib.pyplot as plt\n",
    "from sklearn import datasets\n",
    "from transformers import BertTokenizer, BertModel\n",
    "from torch import nn\n",
    "from torch.optim import Adam\n",
    "from tqdm import tqdm\n",
    "from transformers import BertForSequenceClassification"
   ]
  },
  {
   "cell_type": "code",
   "execution_count": 43,
   "id": "a364735a",
   "metadata": {},
   "outputs": [
    {
     "name": "stdout",
     "output_type": "stream",
     "text": [
      "25\n"
     ]
    },
    {
     "name": "stderr",
     "output_type": "stream",
     "text": [
      "  % Total    % Received % Xferd  Average Speed   Time    Time     Time  Current\n",
      "                                 Dload  Upload   Total   Spent    Left  Speed\n",
      "\n",
      "  0     0    0     0    0     0      0      0 --:--:-- --:--:-- --:--:--     0\n",
      "100   479    0     0  100   479      0   2294 --:--:-- --:--:-- --:--:--  2291\n",
      "100   481  100     2  100   479      6   1599 --:--:-- --:--:-- --:--:--  1603\n"
     ]
    }
   ],
   "source": [
    "!curl -X POST http://127.0.0.1:8080/predictions/bert -T predict.csv"
   ]
  },
  {
   "cell_type": "code",
   "execution_count": 44,
   "id": "e7830c60",
   "metadata": {},
   "outputs": [
    {
     "name": "stdout",
     "output_type": "stream",
     "text": [
      "25\n"
     ]
    },
    {
     "name": "stderr",
     "output_type": "stream",
     "text": [
      "  % Total    % Received % Xferd  Average Speed   Time    Time     Time  Current\n",
      "                                 Dload  Upload   Total   Spent    Left  Speed\n",
      "\n",
      "  0     0    0     0    0     0      0      0 --:--:-- --:--:-- --:--:--     0\n",
      "100   444  100     2  100   442      7   1759 --:--:-- --:--:-- --:--:--  1776\n"
     ]
    }
   ],
   "source": [
    "!curl -X POST http://127.0.0.1:8080/predictions/bert -T predict.txt"
   ]
  },
  {
   "cell_type": "code",
   "execution_count": 45,
   "id": "098e09b2",
   "metadata": {},
   "outputs": [
    {
     "name": "stderr",
     "output_type": "stream",
     "text": [
      "curl: Can't open 'line63to84.txt'!\n",
      "curl: try 'curl --help' or 'curl --manual' for more information\n",
      "curl: (26) Failed to open/read local data from file/application\n"
     ]
    }
   ],
   "source": [
    "!curl -X POST http://127.0.0.1:8080/predictions/bert -T line63to84.txt"
   ]
  },
  {
   "cell_type": "code",
   "execution_count": 46,
   "id": "e3246ba3",
   "metadata": {},
   "outputs": [
    {
     "name": "stdout",
     "output_type": "stream",
     "text": [
      "3\n"
     ]
    },
    {
     "name": "stderr",
     "output_type": "stream",
     "text": [
      "  % Total    % Received % Xferd  Average Speed   Time    Time     Time  Current\n",
      "                                 Dload  Upload   Total   Spent    Left  Speed\n",
      "\n",
      "  0     0    0     0    0     0      0      0 --:--:-- --:--:-- --:--:--     0\n",
      "100  2941    0     0  100  2941      0   2371  0:00:01  0:00:01 --:--:--  2373\n",
      "100  2942    0     1  100  2941      0   1749  0:00:01  0:00:01 --:--:--  1751\n"
     ]
    }
   ],
   "source": [
    "!curl -X POST http://127.0.0.1:8080/predictions/bert -T page1.txt"
   ]
  },
  {
   "cell_type": "code",
   "execution_count": 47,
   "id": "243e08a2",
   "metadata": {},
   "outputs": [
    {
     "name": "stdout",
     "output_type": "stream",
     "text": [
      "17\n"
     ]
    },
    {
     "name": "stderr",
     "output_type": "stream",
     "text": [
      "  % Total    % Received % Xferd  Average Speed   Time    Time     Time  Current\n",
      "                                 Dload  Upload   Total   Spent    Left  Speed\n",
      "\n",
      "  0     0    0     0    0     0      0      0 --:--:-- --:--:-- --:--:--     0\n",
      "100  2772    0     0  100  2772      0   2262  0:00:01  0:00:01 --:--:--  2264\n",
      "100  2774  100     2  100  2772      1   1950  0:00:02  0:00:01  0:00:01  1953\n"
     ]
    }
   ],
   "source": [
    "!curl -X POST http://127.0.0.1:8080/predictions/bert -T page2.txt"
   ]
  },
  {
   "cell_type": "code",
   "execution_count": 48,
   "id": "3482a9e8",
   "metadata": {},
   "outputs": [
    {
     "name": "stdout",
     "output_type": "stream",
     "text": [
      "9\n"
     ]
    },
    {
     "name": "stderr",
     "output_type": "stream",
     "text": [
      "  % Total    % Received % Xferd  Average Speed   Time    Time     Time  Current\n",
      "                                 Dload  Upload   Total   Spent    Left  Speed\n",
      "\n",
      "  0     0    0     0    0     0      0      0 --:--:-- --:--:-- --:--:--     0\n",
      "100  2743    0     0  100  2743      0   2242  0:00:01  0:00:01 --:--:--  2244\n",
      "100  2744    0     1  100  2743      0   2065  0:00:01  0:00:01 --:--:--  2067\n"
     ]
    }
   ],
   "source": [
    "!curl -X POST http://127.0.0.1:8080/predictions/bert -T page3.txt"
   ]
  },
  {
   "cell_type": "code",
   "execution_count": 49,
   "id": "295b90fd",
   "metadata": {},
   "outputs": [
    {
     "name": "stdout",
     "output_type": "stream",
     "text": [
      "7"
     ]
    },
    {
     "name": "stderr",
     "output_type": "stream",
     "text": [
      "  % Total    % Received % Xferd  Average Speed   Time    Time     Time  Current\n",
      "                                 Dload  Upload   Total   Spent    Left  Speed\n",
      "\n",
      "  0     0    0     0    0     0      0      0 --:--:-- --:--:-- --:--:--     0\n",
      "100  2843    0     0  100  2843      0  14003 --:--:-- --:--:-- --:--:-- 14004\n",
      "100  2843    0     0  100  2843      0   2348  0:00:01  0:00:01 --:--:--  2349\n",
      "100  2844    0     1  100  2843      0   1827  0:00:01  0:00:01 --:--:--  1828\n"
     ]
    },
    {
     "name": "stdout",
     "output_type": "stream",
     "text": [
      "\n"
     ]
    }
   ],
   "source": [
    "!curl -X POST http://127.0.0.1:8080/predictions/bert -T page4.txt"
   ]
  },
  {
   "cell_type": "code",
   "execution_count": 50,
   "id": "d4a8c048",
   "metadata": {},
   "outputs": [
    {
     "name": "stdout",
     "output_type": "stream",
     "text": [
      "12\n"
     ]
    },
    {
     "name": "stderr",
     "output_type": "stream",
     "text": [
      "  % Total    % Received % Xferd  Average Speed   Time    Time     Time  Current\n",
      "                                 Dload  Upload   Total   Spent    Left  Speed\n",
      "\n",
      "  0     0    0     0    0     0      0      0 --:--:-- --:--:-- --:--:--     0\n",
      "100  2738    0     0  100  2738      0   2251  0:00:01  0:00:01 --:--:--  2253\n",
      "100  2740  100     2  100  2738      1   2099  0:00:02  0:00:01  0:00:01  2102\n"
     ]
    }
   ],
   "source": [
    "!curl -X POST http://127.0.0.1:8080/predictions/bert -T page5.txt"
   ]
  },
  {
   "cell_type": "code",
   "execution_count": 51,
   "id": "48370dab",
   "metadata": {},
   "outputs": [
    {
     "name": "stdout",
     "output_type": "stream",
     "text": [
      "5\n"
     ]
    },
    {
     "name": "stderr",
     "output_type": "stream",
     "text": [
      "  % Total    % Received % Xferd  Average Speed   Time    Time     Time  Current\n",
      "                                 Dload  Upload   Total   Spent    Left  Speed\n",
      "\n",
      "  0     0    0     0    0     0      0      0 --:--:-- --:--:-- --:--:--     0\n",
      "100  2816    0     0  100  2816      0   2304  0:00:01  0:00:01 --:--:--  2306\n",
      "100  2817    0     1  100  2816      0   2063  0:00:01  0:00:01 --:--:--  2065\n"
     ]
    }
   ],
   "source": [
    "!curl -X POST http://127.0.0.1:8080/predictions/bert -T page6.txt"
   ]
  },
  {
   "cell_type": "code",
   "execution_count": 52,
   "id": "1aa51441",
   "metadata": {},
   "outputs": [
    {
     "name": "stdout",
     "output_type": "stream",
     "text": [
      "10\n"
     ]
    },
    {
     "name": "stderr",
     "output_type": "stream",
     "text": [
      "  % Total    % Received % Xferd  Average Speed   Time    Time     Time  Current\n",
      "                                 Dload  Upload   Total   Spent    Left  Speed\n",
      "\n",
      "  0     0    0     0    0     0      0      0 --:--:-- --:--:-- --:--:--     0\n",
      "100  2756    0     0  100  2756      0   2253  0:00:01  0:00:01 --:--:--  2255\n",
      "100  2758  100     2  100  2756      1   2072  0:00:02  0:00:01  0:00:01  2075\n"
     ]
    }
   ],
   "source": [
    "!curl -X POST http://127.0.0.1:8080/predictions/bert -T page7.txt"
   ]
  },
  {
   "cell_type": "code",
   "execution_count": 53,
   "id": "fcbcee96",
   "metadata": {},
   "outputs": [
    {
     "data": {
      "text/html": [
       "<div>\n",
       "<style scoped>\n",
       "    .dataframe tbody tr th:only-of-type {\n",
       "        vertical-align: middle;\n",
       "    }\n",
       "\n",
       "    .dataframe tbody tr th {\n",
       "        vertical-align: top;\n",
       "    }\n",
       "\n",
       "    .dataframe thead th {\n",
       "        text-align: right;\n",
       "    }\n",
       "</style>\n",
       "<table border=\"1\" class=\"dataframe\">\n",
       "  <thead>\n",
       "    <tr style=\"text-align: right;\">\n",
       "      <th></th>\n",
       "      <th>Page number</th>\n",
       "      <th>Text</th>\n",
       "      <th>Label</th>\n",
       "      <th>score</th>\n",
       "      <th>label number</th>\n",
       "    </tr>\n",
       "  </thead>\n",
       "  <tbody>\n",
       "    <tr>\n",
       "      <th>0</th>\n",
       "      <td>1</td>\n",
       "      <td>CORPORATE GOVERNANCE 90 94 Our board of direct...</td>\n",
       "      <td>Business_Model_Resilience</td>\n",
       "      <td>0.140759</td>\n",
       "      <td>3</td>\n",
       "    </tr>\n",
       "    <tr>\n",
       "      <th>1</th>\n",
       "      <td>2</td>\n",
       "      <td>Prior to this he spent 14 years at Rolls-Royce...</td>\n",
       "      <td>Supply_Chain_Management</td>\n",
       "      <td>0.498325</td>\n",
       "      <td>17</td>\n",
       "    </tr>\n",
       "    <tr>\n",
       "      <th>2</th>\n",
       "      <td>3</td>\n",
       "      <td>Current external appointments A member of the ...</td>\n",
       "      <td>Employee_Health_And_Safety</td>\n",
       "      <td>0.573026</td>\n",
       "      <td>9</td>\n",
       "    </tr>\n",
       "    <tr>\n",
       "      <th>3</th>\n",
       "      <td>4</td>\n",
       "      <td>Silla is a fellow of the Chartered Association...</td>\n",
       "      <td>Director_Removal</td>\n",
       "      <td>0.195375</td>\n",
       "      <td>7</td>\n",
       "    </tr>\n",
       "    <tr>\n",
       "      <th>4</th>\n",
       "      <td>5</td>\n",
       "      <td>Fiona is also a non-executive director at The ...</td>\n",
       "      <td>Management_Of_Legal_And_Regulatory_Framework</td>\n",
       "      <td>0.370767</td>\n",
       "      <td>12</td>\n",
       "    </tr>\n",
       "  </tbody>\n",
       "</table>\n",
       "</div>"
      ],
      "text/plain": [
       "   Page number                                               Text  \\\n",
       "0            1  CORPORATE GOVERNANCE 90 94 Our board of direct...   \n",
       "1            2  Prior to this he spent 14 years at Rolls-Royce...   \n",
       "2            3  Current external appointments A member of the ...   \n",
       "3            4  Silla is a fellow of the Chartered Association...   \n",
       "4            5  Fiona is also a non-executive director at The ...   \n",
       "\n",
       "                                          Label     score  label number  \n",
       "0                     Business_Model_Resilience  0.140759             3  \n",
       "1                       Supply_Chain_Management  0.498325            17  \n",
       "2                    Employee_Health_And_Safety  0.573026             9  \n",
       "3                              Director_Removal  0.195375             7  \n",
       "4  Management_Of_Legal_And_Regulatory_Framework  0.370767            12  "
      ]
     },
     "execution_count": 53,
     "metadata": {},
     "output_type": "execute_result"
    }
   ],
   "source": [
    "datapath = f'/Users/Administrator/Downloads/ESG-BERT/ESG-BERT/networkrail.csv'\n",
    "df = pd.read_csv(datapath)\n",
    "df.head()"
   ]
  },
  {
   "cell_type": "code",
   "execution_count": 54,
   "id": "4ec88389",
   "metadata": {},
   "outputs": [
    {
     "name": "stdout",
     "output_type": "stream",
     "text": [
      "5\n"
     ]
    },
    {
     "name": "stderr",
     "output_type": "stream",
     "text": [
      "  % Total    % Received % Xferd  Average Speed   Time    Time     Time  Current\n",
      "                                 Dload  Upload   Total   Spent    Left  Speed\n",
      "\n",
      "  0     0    0     0    0     0      0      0 --:--:-- --:--:-- --:--:--     0\n",
      "100  2816    0     0  100  2816      0  13186 --:--:-- --:--:-- --:--:-- 13220\n",
      "100  2816    0     0  100  2816      0   2295  0:00:01  0:00:01 --:--:--  2295\n",
      "100  2817    0     1  100  2816      0   2043  0:00:01  0:00:01 --:--:--  2044\n"
     ]
    }
   ],
   "source": [
    "!curl -X POST http://127.0.0.1:8080/predictions/bert -T page6.txt"
   ]
  },
  {
   "cell_type": "code",
   "execution_count": 55,
   "id": "3ea397b4",
   "metadata": {},
   "outputs": [
    {
     "name": "stdout",
     "output_type": "stream",
     "text": [
      "Requirement already satisfied: transformers in c:\\users\\administrator\\anaconda3\\lib\\site-packages (4.20.1)\n",
      "Requirement already satisfied: huggingface-hub<1.0,>=0.1.0 in c:\\users\\administrator\\anaconda3\\lib\\site-packages (from transformers) (0.6.0)\n",
      "Requirement already satisfied: packaging>=20.0 in c:\\users\\administrator\\anaconda3\\lib\\site-packages (from transformers) (21.0)\n",
      "Requirement already satisfied: pyyaml>=5.1 in c:\\users\\administrator\\anaconda3\\lib\\site-packages (from transformers) (6.0)\n",
      "Requirement already satisfied: numpy>=1.17 in c:\\users\\administrator\\anaconda3\\lib\\site-packages (from transformers) (1.20.3)\n",
      "Requirement already satisfied: filelock in c:\\users\\administrator\\anaconda3\\lib\\site-packages (from transformers) (3.3.1)\n",
      "Requirement already satisfied: tqdm>=4.27 in c:\\users\\administrator\\anaconda3\\lib\\site-packages (from transformers) (4.62.3)\n",
      "Requirement already satisfied: tokenizers!=0.11.3,<0.13,>=0.11.1 in c:\\users\\administrator\\anaconda3\\lib\\site-packages (from transformers) (0.12.1)\n",
      "Requirement already satisfied: requests in c:\\users\\administrator\\anaconda3\\lib\\site-packages (from transformers) (2.26.0)\n",
      "Requirement already satisfied: regex!=2019.12.17 in c:\\users\\administrator\\anaconda3\\lib\\site-packages (from transformers) (2021.8.3)\n",
      "Requirement already satisfied: typing-extensions>=3.7.4.3 in c:\\users\\administrator\\anaconda3\\lib\\site-packages (from huggingface-hub<1.0,>=0.1.0->transformers) (4.2.0)\n",
      "Requirement already satisfied: pyparsing>=2.0.2 in c:\\users\\administrator\\anaconda3\\lib\\site-packages (from packaging>=20.0->transformers) (3.0.4)\n",
      "Requirement already satisfied: colorama in c:\\users\\administrator\\anaconda3\\lib\\site-packages (from tqdm>=4.27->transformers) (0.4.4)\n",
      "Requirement already satisfied: certifi>=2017.4.17 in c:\\users\\administrator\\anaconda3\\lib\\site-packages (from requests->transformers) (2021.10.8)\n",
      "Requirement already satisfied: charset-normalizer~=2.0.0 in c:\\users\\administrator\\anaconda3\\lib\\site-packages (from requests->transformers) (2.0.4)\n",
      "Requirement already satisfied: idna<4,>=2.5 in c:\\users\\administrator\\anaconda3\\lib\\site-packages (from requests->transformers) (3.2)\n",
      "Requirement already satisfied: urllib3<1.27,>=1.21.1 in c:\\users\\administrator\\anaconda3\\lib\\site-packages (from requests->transformers) (1.26.7)\n"
     ]
    }
   ],
   "source": [
    "!pip install transformers"
   ]
  },
  {
   "cell_type": "code",
   "execution_count": 56,
   "id": "b20bc049",
   "metadata": {},
   "outputs": [
    {
     "name": "stderr",
     "output_type": "stream",
     "text": [
      "No model was supplied, defaulted to distilbert-base-uncased-finetuned-sst-2-english (https://huggingface.co/distilbert-base-uncased-finetuned-sst-2-english)\n"
     ]
    }
   ],
   "source": [
    "from transformers import pipeline\n",
    "nlp = pipeline(\"text-classification\")"
   ]
  },
  {
   "cell_type": "code",
   "execution_count": 57,
   "id": "1921ce23",
   "metadata": {
    "scrolled": true
   },
   "outputs": [
    {
     "name": "stderr",
     "output_type": "stream",
     "text": [
      "C:\\Users\\Administrator\\anaconda3\\lib\\site-packages\\transformers\\pipelines\\text_classification.py:89: UserWarning: `return_all_scores` is now deprecated, use `top_k=1` if you want similar functionnality\n",
      "  warnings.warn(\n"
     ]
    }
   ],
   "source": [
    "nlp = pipeline(\"text-classification\", model=\"nbroad/ESG-BERT\")\n",
    "text = 'In fiscal year 2019, we reduced our comprehensive carbon footprint for the fourth consecutive year—down 35 percent compared to 2015, when Apple’s carbon emissions peaked, even as net revenue increased by 11 percent over that same period. In the past year, we avoided over 10 million metric tons from our emissions reduction initiatives—like our Supplier Clean Energy Program, which lowered our footprint by 4.4 million metric tons.'\n",
    "nlp(text, return_all_scores=True)\n",
    "top_k=1"
   ]
  },
  {
   "cell_type": "code",
   "execution_count": 58,
   "id": "b499ac84",
   "metadata": {},
   "outputs": [
    {
     "data": {
      "text/plain": [
       "[{'label': 'Business_Ethics', 'score': 0.02698638290166855},\n",
       " {'label': 'Data_Security', 'score': 0.03920561447739601},\n",
       " {'label': 'Access_And_Affordability', 'score': 0.01348820049315691},\n",
       " {'label': 'Business_Model_Resilience', 'score': 0.14075927436351776},\n",
       " {'label': 'Competitive_Behavior', 'score': 0.007755822967737913},\n",
       " {'label': 'Critical_Incident_Risk_Management', 'score': 0.015985149890184402},\n",
       " {'label': 'Customer_Welfare', 'score': 0.01697271317243576},\n",
       " {'label': 'Director_Removal', 'score': 0.07718420028686523},\n",
       " {'label': 'Employee_Engagement_Inclusion_And_Diversity',\n",
       "  'score': 0.054747484624385834},\n",
       " {'label': 'Employee_Health_And_Safety', 'score': 0.09422693401575089},\n",
       " {'label': 'Human_Rights_And_Community_Relations',\n",
       "  'score': 0.047576747834682465},\n",
       " {'label': 'Labor_Practices', 'score': 0.018297264352440834},\n",
       " {'label': 'Management_Of_Legal_And_Regulatory_Framework',\n",
       "  'score': 0.10691768676042557},\n",
       " {'label': 'Physical_Impacts_Of_Climate_Change', 'score': 0.03110915794968605},\n",
       " {'label': 'Product_Quality_And_Safety', 'score': 0.027759872376918793},\n",
       " {'label': 'Product_Design_And_Lifecycle_Management',\n",
       "  'score': 0.04044143110513687},\n",
       " {'label': 'Selling_Practices_And_Product_Labeling',\n",
       "  'score': 0.011144070886075497},\n",
       " {'label': 'Supply_Chain_Management', 'score': 0.040707066655159},\n",
       " {'label': 'Systemic_Risk_Management', 'score': 0.019111305475234985},\n",
       " {'label': 'Waste_And_Hazardous_Materials_Management',\n",
       "  'score': 0.01996968314051628},\n",
       " {'label': 'Water_And_Wastewater_Management', 'score': 0.01637658104300499},\n",
       " {'label': 'Air_Quality', 'score': 0.022765709087252617},\n",
       " {'label': 'Customer_Privacy', 'score': 0.03970922902226448},\n",
       " {'label': 'Ecological_Impacts', 'score': 0.045178212225437164},\n",
       " {'label': 'Energy_Management', 'score': 0.010926946066319942},\n",
       " {'label': 'GHG_Emissions', 'score': 0.014697248116135597}]"
      ]
     },
     "execution_count": 58,
     "metadata": {},
     "output_type": "execute_result"
    }
   ],
   "source": [
    "nlp = pipeline(\"text-classification\", model=\"nbroad/ESG-BERT\")\n",
    "text = 'CORPORATE  GOVERNANCE  90  94  Our board of directors  Corporate governance report  104 Safety, health and environmental compliance committee report  107 Environmental sustainability committee report  109 Property supervisory committee report  111 Audit and risk committee report  117 Treasury committee report  119 Nomination and remuneration committee report  122 Directors’ remuneration report  134 Directors’ report  Annual Report and Accounts 2021   \\\\   Network Rail Limited   \\\\   89  \\x0cCorporate governance  OUR BOARD OF DIRECTORS  Sir Peter  Hendy CBE Chair  Andrew  Haines OBE Chief executive  Skills and experience Sir Peter was commissioner of Transport  for London (TfL) from 2006 to 2015. He  led the successful operation of London’s  transport for the 2012 Olympic and  Paralympic Games: his experience in  leading urban transport in a world city is  critical to chairing Network Rail. Sir Peter  is a past international and UK president  of the Chartered Institute of Logistics  and Transport, is a fellow of the Chartered  Institute of Highways and Transport, and  of the Institution of Civil Engineers. He was  knighted in the 2013 New Year’s Honours  List, having been made CBE in 2006  for services to public transport and the  community in London.  Current external appointments Chair of London Legacy Development  Corporation; trustee of the Science Museum  Group; trustee and director of the London  Transport Museum; chair of London Freight  Enforcement Partnership; patron of the  Independent Transport Commission;  Network Rail representative at the  Transport for the North; chair of the Euston  Partnership Board; and honorary president  of the London Bus Museum. He is currently  reviewing the connectivity of the United  Kingdom, reporting to the Prime Minister.  Committee membership Chair of the property supervisory  committee; nomination and remuneration  committee; safety, health and  environmental compliance committee.  Appointed to the Board: 2015  Skills and experience Andrew was previously chief executive officer of the Civil Aviation Authority  from 2009-2018. Prior to that he had a wide-ranging career within the rail  industry with British Rail, Railtrack, South West Trains and FirstGroup plc  where he led the rail division in England, Scotland and Wales. In addition,  he was a non-executive director at a rolling stock leasing company.   Andrew was awarded an OBE in the 2016 New Year Honour’s list for  services to transport and is a fellow of the Chartered Institute of Logistics  and Transport, the Royal Aeronautical Society, the Institute of Railway  Operators and the Permanent Way Institute.  Appointed to the Board: 2018  Jeremy  Westlake Chief financial  officer  Skills and experience Jeremy was formerly senior vice president for finance at Alstom Transport in  France, responsible for financial performance and control, project finance and  investor management.'\n",
    "nlp(text, return_all_scores=True)"
   ]
  },
  {
   "cell_type": "code",
   "execution_count": 59,
   "id": "fbc216fb",
   "metadata": {},
   "outputs": [
    {
     "data": {
      "text/plain": [
       "[{'label': 'Business_Ethics', 'score': 0.006055959966033697},\n",
       " {'label': 'Data_Security', 'score': 0.006693198811262846},\n",
       " {'label': 'Access_And_Affordability', 'score': 0.006696170661598444},\n",
       " {'label': 'Business_Model_Resilience', 'score': 0.238533154129982},\n",
       " {'label': 'Competitive_Behavior', 'score': 0.008595728315412998},\n",
       " {'label': 'Critical_Incident_Risk_Management', 'score': 0.004203757271170616},\n",
       " {'label': 'Customer_Welfare', 'score': 0.016971005126833916},\n",
       " {'label': 'Director_Removal', 'score': 0.0202983058989048},\n",
       " {'label': 'Employee_Engagement_Inclusion_And_Diversity',\n",
       "  'score': 0.009091089479625225},\n",
       " {'label': 'Employee_Health_And_Safety', 'score': 0.005022520665079355},\n",
       " {'label': 'Human_Rights_And_Community_Relations',\n",
       "  'score': 0.010943597182631493},\n",
       " {'label': 'Labor_Practices', 'score': 0.007391542661935091},\n",
       " {'label': 'Management_Of_Legal_And_Regulatory_Framework',\n",
       "  'score': 0.005128140095621347},\n",
       " {'label': 'Physical_Impacts_Of_Climate_Change',\n",
       "  'score': 0.018863309174776077},\n",
       " {'label': 'Product_Quality_And_Safety', 'score': 0.005567820277065039},\n",
       " {'label': 'Product_Design_And_Lifecycle_Management',\n",
       "  'score': 0.034947942942380905},\n",
       " {'label': 'Selling_Practices_And_Product_Labeling',\n",
       "  'score': 0.00691240094602108},\n",
       " {'label': 'Supply_Chain_Management', 'score': 0.49832454323768616},\n",
       " {'label': 'Systemic_Risk_Management', 'score': 0.05077788978815079},\n",
       " {'label': 'Waste_And_Hazardous_Materials_Management',\n",
       "  'score': 0.004231133032590151},\n",
       " {'label': 'Water_And_Wastewater_Management', 'score': 0.00644837087020278},\n",
       " {'label': 'Air_Quality', 'score': 0.003185439156368375},\n",
       " {'label': 'Customer_Privacy', 'score': 0.005163273774087429},\n",
       " {'label': 'Ecological_Impacts', 'score': 0.007381849456578493},\n",
       " {'label': 'Energy_Management', 'score': 0.005550584755837917},\n",
       " {'label': 'GHG_Emissions', 'score': 0.007021368946880102}]"
      ]
     },
     "execution_count": 59,
     "metadata": {},
     "output_type": "execute_result"
    }
   ],
   "source": [
    "nlp = pipeline(\"text-classification\", model=\"nbroad/ESG-BERT\")\n",
    "text ='Prior to this he spent 14 years at Rolls-Royce in a range  of senior finance and supply chain roles both in the UK and the United States.   Jeremy is a fellow of the Institute of Chartered Accountants in England and  Wales and has a Master’s in manufacturing from the University of Cambridge.  Current external appointments Non-executive director of Elevate Services Inc., providing technology and  services to law firms and law departments.  Committee membership Property supervisory committee  Appointed to the Board: 2016  90   /   Network Rail Limited   /   Annual Report and Accounts 2021  \\x0cCorporate governance  Ismail  Amla Non-executive  director  Mark  Bayley CBE Non-executive  director  Skills and experience Ismail has extensive international experience helping  leading brands and disruptive start-ups leverage emerging  technologies.  He is the chief growth officer at Capita where he is  responsible for driving sales, the brand position and  marketing, and Capita’s strategy for key clients.  Prior to this, Ismail was the managing partner in IBM,  leading the North American Services business; chief  executive officer for the consulting firm Capco in North  America; and on the leadership team for Accenture in the UK.  Current external appointments Chief growth officer at Capita; a board member at UK  Sports; a member of the board of governors at at University  of East London.  Committee membership Nomination and remuneration committee.  Appointed to the Board: 1 April 2021  Skills and experience Mark has spent much of his career in the rail sector. He was  chief executive of London & Continental Railways Limited,  and chief executive of the Green Deal Finance Company  (GDFC). His interim work includes commercial director of  High Speed 2 Ltd, and chief financial officer and board  director of the Submarine Delivery Agency at the Ministry  of Defence.   Mark was awarded a CBE in 2012 for services to the rail  industry.  Current external appointments Non-executive director of Ofwat; non-executive director of  UK Atomic Energy Authority; a member of the DfT’s Group  Audit and Risk Assurance Committee.  Committee membership Chair of the audit and risk committee; chair of the treasury  committee; property supervisory committee.  Appointed to the Board: 2020  Rob  Brighouse Senior  independent  non-executive  director  Skills and experience Rob has 40-years’ experience in the rail industry and was previously the  managing director of Chiltern Railways. He first joined the rail operator in 2000  as projects director, where he led the Evergreen 1 and 2 infrastructure projects  as well as the building of Chiltern’s Wembley depot.   Rob is a fellow of the Institution of Civil Engineers and the Institute of Directors.'\n",
    "nlp(text, return_all_scores=True)"
   ]
  },
  {
   "cell_type": "code",
   "execution_count": 60,
   "id": "349b7a41",
   "metadata": {},
   "outputs": [
    {
     "data": {
      "text/plain": [
       "[{'label': 'Business_Ethics', 'score': 0.006117835175246},\n",
       " {'label': 'Data_Security', 'score': 0.004986163228750229},\n",
       " {'label': 'Access_And_Affordability', 'score': 0.09241024404764175},\n",
       " {'label': 'Business_Model_Resilience', 'score': 0.008092835545539856},\n",
       " {'label': 'Competitive_Behavior', 'score': 0.004507259465754032},\n",
       " {'label': 'Critical_Incident_Risk_Management', 'score': 0.004922228865325451},\n",
       " {'label': 'Customer_Welfare', 'score': 0.011344545520842075},\n",
       " {'label': 'Director_Removal', 'score': 0.002857235027477145},\n",
       " {'label': 'Employee_Engagement_Inclusion_And_Diversity',\n",
       "  'score': 0.1426868587732315},\n",
       " {'label': 'Employee_Health_And_Safety', 'score': 0.5730263590812683},\n",
       " {'label': 'Human_Rights_And_Community_Relations',\n",
       "  'score': 0.024614432826638222},\n",
       " {'label': 'Labor_Practices', 'score': 0.007358228322118521},\n",
       " {'label': 'Management_Of_Legal_And_Regulatory_Framework',\n",
       "  'score': 0.006276377942413092},\n",
       " {'label': 'Physical_Impacts_Of_Climate_Change',\n",
       "  'score': 0.0031683659180998802},\n",
       " {'label': 'Product_Quality_And_Safety', 'score': 0.03181224688887596},\n",
       " {'label': 'Product_Design_And_Lifecycle_Management',\n",
       "  'score': 0.014169133268296719},\n",
       " {'label': 'Selling_Practices_And_Product_Labeling',\n",
       "  'score': 0.0057992530055344105},\n",
       " {'label': 'Supply_Chain_Management', 'score': 0.005443583708256483},\n",
       " {'label': 'Systemic_Risk_Management', 'score': 0.007035838905721903},\n",
       " {'label': 'Waste_And_Hazardous_Materials_Management',\n",
       "  'score': 0.004133000038564205},\n",
       " {'label': 'Water_And_Wastewater_Management', 'score': 0.0033614933490753174},\n",
       " {'label': 'Air_Quality', 'score': 0.0034158523194491863},\n",
       " {'label': 'Customer_Privacy', 'score': 0.007644745986908674},\n",
       " {'label': 'Ecological_Impacts', 'score': 0.018072450533509254},\n",
       " {'label': 'Energy_Management', 'score': 0.004317708313465118},\n",
       " {'label': 'GHG_Emissions', 'score': 0.0024257481563836336}]"
      ]
     },
     "execution_count": 60,
     "metadata": {},
     "output_type": "execute_result"
    }
   ],
   "source": [
    "nlp = pipeline(\"text-classification\", model=\"nbroad/ESG-BERT\")\n",
    "text = 'Current external appointments A member of the Advisory Board at Aston Business School; advisor to the Board  and the Programme Board of Dublin Area Rapid Transit (DART).   Committee membership Safety, health and environmental compliance committee; audit and risk  committee; environmental sustainability committee.  Appointed to the Board: 2016  Annual Report and Accounts 2021   \\\\   Network Rail Limited   \\\\   91  \\x0cCorporate governance  Stephen  Duckworth  OBE Non-executive  director  Skills and experience Stephen founded and ran Disability  Matters Limited, a research and  consultancy business with an  emphasis on inclusive design. He  initially qualified as a medical doctor  and followed this with an MSc in  rehabilitation studies and a PhD in  disability equality.  Stephen currently sits on the  boards of several organisations,  has held numerous advisory roles  to government, and carried out  consultancy work with Southwest  Trains and Eurostar.   He was awarded an OBE for services  to disabled people in 1994.  Current external appointments Non-executive director of Palace of  Westminster Restoration & Renewal  Delivery Authority; trustee of Leonard  Cheshire; trustee of the Rugby Football  Union Injured Players Foundation.  Committee membership Audit and risk committee; standing  invitation to the safety, health and  environmental compliance committee.  Appointed to the Board: 1 April 2021  Michael  Harrison Special  director and  non-executive  director   Skills and experience Michael is a director in UK  Government Investments (UKGI) an  arm’s length body of HM Treasury.  As part of this role Michael has  been a non-executive director of a  number of companies in which the  UK Government has a shareholding  including Porton Biopharma,  Ordnance Survey, the Met Office, and  Working Links.   Prior to working in UKGI Michael  had a broad international corporate  finance advisory career working for  Credit Suisse First Boston, Barclays  de Zoete Wedd, and as independent  corporate finance advisor at Caliburn  in Australia.   Current external appointments Employee of UK Government  Investments (UKGI).  Committee membership Nomination and remuneration  committee; audit and risk committee;  treasury committee.  Appointed to the Board: 2020  Silla  Maizey Non-executive  director  Skills and experience Silla has over 34 years’ experience in  the aviation sector, and most recently  was British Airways’ (BA) managing  director of Gatwick. She was part of  BA’s executive leadership team and  BA’s customer director.   Silla brings a range of experience and  insights to the Board, from operations  to procurement, the shaping of the  customer proposition and business  reorganisations.'\n",
    "nlp(text, return_all_scores=True)\n"
   ]
  },
  {
   "cell_type": "code",
   "execution_count": 61,
   "id": "e7811097",
   "metadata": {},
   "outputs": [
    {
     "data": {
      "text/plain": [
       "[{'label': 'Business_Ethics', 'score': 0.04559753090143204},\n",
       " {'label': 'Data_Security', 'score': 0.03882487118244171},\n",
       " {'label': 'Access_And_Affordability', 'score': 0.009691867977380753},\n",
       " {'label': 'Business_Model_Resilience', 'score': 0.1388912796974182},\n",
       " {'label': 'Competitive_Behavior', 'score': 0.007859894074499607},\n",
       " {'label': 'Critical_Incident_Risk_Management', 'score': 0.010759010910987854},\n",
       " {'label': 'Customer_Welfare', 'score': 0.013943884521722794},\n",
       " {'label': 'Director_Removal', 'score': 0.195374995470047},\n",
       " {'label': 'Employee_Engagement_Inclusion_And_Diversity',\n",
       "  'score': 0.031401049345731735},\n",
       " {'label': 'Employee_Health_And_Safety', 'score': 0.05288393422961235},\n",
       " {'label': 'Human_Rights_And_Community_Relations',\n",
       "  'score': 0.03213023394346237},\n",
       " {'label': 'Labor_Practices', 'score': 0.019707467406988144},\n",
       " {'label': 'Management_Of_Legal_And_Regulatory_Framework',\n",
       "  'score': 0.040246520191431046},\n",
       " {'label': 'Physical_Impacts_Of_Climate_Change', 'score': 0.01852591708302498},\n",
       " {'label': 'Product_Quality_And_Safety', 'score': 0.06482616811990738},\n",
       " {'label': 'Product_Design_And_Lifecycle_Management',\n",
       "  'score': 0.09536302089691162},\n",
       " {'label': 'Selling_Practices_And_Product_Labeling',\n",
       "  'score': 0.010465184226632118},\n",
       " {'label': 'Supply_Chain_Management', 'score': 0.06664237380027771},\n",
       " {'label': 'Systemic_Risk_Management', 'score': 0.020924795418977737},\n",
       " {'label': 'Waste_And_Hazardous_Materials_Management',\n",
       "  'score': 0.007407117635011673},\n",
       " {'label': 'Water_And_Wastewater_Management', 'score': 0.009105578064918518},\n",
       " {'label': 'Air_Quality', 'score': 0.009227325208485126},\n",
       " {'label': 'Customer_Privacy', 'score': 0.028792427852749825},\n",
       " {'label': 'Ecological_Impacts', 'score': 0.016154199838638306},\n",
       " {'label': 'Energy_Management', 'score': 0.008707188069820404},\n",
       " {'label': 'GHG_Emissions', 'score': 0.006546211428940296}]"
      ]
     },
     "execution_count": 61,
     "metadata": {},
     "output_type": "execute_result"
    }
   ],
   "source": [
    "nlp = pipeline(\"text-classification\", model=\"nbroad/ESG-BERT\")\n",
    "text = 'Silla is a fellow of the Chartered  Association of Certified Accountants  and a fellow of the Chartered Institute  of Purchasing and Supply.  Current external appointments Chair of NHS Business Services  Authority; non-executive director  of John Menzies plc; non-executive  director of the Crown Commercial  Service.  Committee membership Audit and risk committee; treasury  committee.  Appointed to the Board: 2016  Sharon Flood resigned as a  director on 23 August 2020.  92   /   Network Rail Limited   /   Annual Report and Accounts 2021  \\x0cCorporate governance  David  Noyes Non-executive  director  Mike  Putnam Non-executive  director  Skills and experience David has spent his career working  in the leisure and transport sectors.  In a 20-year career at British Airways  he held various directorships, and  subsequently until December 2017  David was chief executive officer  of Cunard and P&O Cruises, and a  director of Carnival plc.  David is experienced in leading  devolved businesses in safety critical  industries with a focus on delivering  customer service excellence and  driving cost efficiency.   Current external appointments Non-executive chair of Grays of  Cambridge (International) Limited;  non-executive director London Luton  Airport Operations Ltd; corporate  advisory board member for The  Teenage Cancer Trust.  Committee membership Chair of the nomination and  remuneration committee; chair of  the environmental sustainability  committee; safety, health and  environmental compliance committee.  Appointed to the Board: 2018  Skills and experience Mike has over 25 years’ executive  experience across the development,  construction and services sectors, and  participated in successfully delivering  high profile projects.  Mike was president and chief executive  officer of Skanska UK plc until May  2017. Having been executive vice- president and a director, responsible  for the infrastructure and then the  building and construction businesses.  Mike is a Chartered Engineer and a  fellow of both the Institution of Civil  Engineers and Royal Institution of  Chartered Surveyors.  Current external appointments Non-executive director of Southern  Water Services Limited and Bazalgette  Tunnel Limited; member of the DfT’s  Acceleration Unit Expert Panel; a  member of the Supervisory Board of  Arcadis NV.  Committee membership Chair of the safety, health and  environmental compliance committee;  environmental sustainability committee.  Appointed to the Board: 2018  Fiona Ross Non-executive  director  Skills and experience Fiona is an experienced chair and non- executive director having served on  boards in Ireland and the UK. Fiona  chairs the Córas Iompair Éireann  (CIÉ), Ireland’s pubic transport  provider, and is a Board member  of the HSE, Ireland’s public health  service.'\n",
    "nlp(text, return_all_scores=True)"
   ]
  },
  {
   "cell_type": "code",
   "execution_count": 62,
   "id": "c6c9d46c",
   "metadata": {},
   "outputs": [
    {
     "data": {
      "text/plain": [
       "[{'label': 'Business_Ethics', 'score': 0.08620087057352066},\n",
       " {'label': 'Data_Security', 'score': 0.021570980548858643},\n",
       " {'label': 'Access_And_Affordability', 'score': 0.008286779746413231},\n",
       " {'label': 'Business_Model_Resilience', 'score': 0.06822171062231064},\n",
       " {'label': 'Competitive_Behavior', 'score': 0.009668498300015926},\n",
       " {'label': 'Critical_Incident_Risk_Management', 'score': 0.012136489152908325},\n",
       " {'label': 'Customer_Welfare', 'score': 0.007247056346386671},\n",
       " {'label': 'Director_Removal', 'score': 0.13282634317874908},\n",
       " {'label': 'Employee_Engagement_Inclusion_And_Diversity',\n",
       "  'score': 0.031772322952747345},\n",
       " {'label': 'Employee_Health_And_Safety', 'score': 0.010964145883917809},\n",
       " {'label': 'Human_Rights_And_Community_Relations',\n",
       "  'score': 0.053861379623413086},\n",
       " {'label': 'Labor_Practices', 'score': 0.016985952854156494},\n",
       " {'label': 'Management_Of_Legal_And_Regulatory_Framework',\n",
       "  'score': 0.3707669973373413},\n",
       " {'label': 'Physical_Impacts_Of_Climate_Change', 'score': 0.02339346520602703},\n",
       " {'label': 'Product_Quality_And_Safety', 'score': 0.014007313176989555},\n",
       " {'label': 'Product_Design_And_Lifecycle_Management',\n",
       "  'score': 0.00810034666210413},\n",
       " {'label': 'Selling_Practices_And_Product_Labeling',\n",
       "  'score': 0.006688849534839392},\n",
       " {'label': 'Supply_Chain_Management', 'score': 0.016080379486083984},\n",
       " {'label': 'Systemic_Risk_Management', 'score': 0.03937410190701485},\n",
       " {'label': 'Waste_And_Hazardous_Materials_Management',\n",
       "  'score': 0.0035033030435442924},\n",
       " {'label': 'Water_And_Wastewater_Management', 'score': 0.007763146422803402},\n",
       " {'label': 'Air_Quality', 'score': 0.00864790566265583},\n",
       " {'label': 'Customer_Privacy', 'score': 0.020215198397636414},\n",
       " {'label': 'Ecological_Impacts', 'score': 0.01002291776239872},\n",
       " {'label': 'Energy_Management', 'score': 0.004032019060105085},\n",
       " {'label': 'GHG_Emissions', 'score': 0.007661537267267704}]"
      ]
     },
     "execution_count": 62,
     "metadata": {},
     "output_type": "execute_result"
    }
   ],
   "source": [
    "nlp = pipeline(\"text-classification\", model=\"nbroad/ESG-BERT\")\n",
    "text = 'Fiona is also a non-executive  director at The Scottish Government.   Fiona began her career as a  stockbroker in London. In 2012  she was awarded a fellowship in  Governance at George Washington  University in the United States.  Current external appointments Chair of Córas Iompair Éireann;  non-executive director HSE Ireland;  non-executive director of The Scottish  Government; non-executive director  JK Funds; non-executive director of  SphereInvest (a UCITs fund listed  in Dublin; chair of the audit and risk  committee of Smith & Williamson.  Committee membership Nomination and remuneration  committee; environmental  sustainability committee.  Appointed to the Board: 2020  Stuart  Kelly Group general  counsel and  company  secretary  Skills and experience Stuart is responsible for the Legal and Corporate Services function. Stuart has  extensive in-house legal and corporate governance experience gained within the  listed environment, having joined the company from Severn Trent plc where he  held the position of Deputy General Counsel.   Stuart started his in-house legal career with Network Rail, prior to which he was a  solicitor in private practice. Stuart is also a qualified civil engineer.   Annual Report and Accounts 2021   \\\\   Network Rail Limited   \\\\   93  \\x0cCorporate governance  CORPORATE  GOVERNANCE REPORT  At Network Rail, we recognise the value of good corporate governance and believe that it’s  essential to the success of the company and to delivering our strategy for passengers and  stakeholders. Throughout 2020/21, we’ve ensured that our governance arrangements are  appropriate to the range of challenges we’ve faced. We’ve acted on external feedback and  corporate governance reviews to maintain a high standard of governance.  Covid-19 governance  Devolution  In response to the pandemic we activated our Strategic  Crisis Management Team (SCMT). Led by the director  of Network Services, the SCMT includes colleagues from  across the organisation and is responsible for managing the  impact of coronavirus on the railway, our passengers and  our people. The SCMT initially met daily, and then weekly,  to coordinate the continuity of the company’s business and  keep the railway open.   The SCMT has been supported by the National Alert  Coordination Group, which manages the logistical response  to the pandemic within Network Rail. This included  ensuring our workforce had the right personal protective  equipment to continue working safely and coordinating our  testing programme to provide an extra layer of protection  for our people. Command structures within our regions and  directorates also implemented necessary policy changes  and managed day-to-day issues.'\n",
    "nlp(text, return_all_scores=True)"
   ]
  },
  {
   "cell_type": "code",
   "execution_count": 63,
   "id": "57d0acee",
   "metadata": {},
   "outputs": [
    {
     "data": {
      "text/plain": [
       "[{'label': 'Business_Ethics', 'score': 0.0034608650021255016},\n",
       " {'label': 'Data_Security', 'score': 0.002283637411892414},\n",
       " {'label': 'Access_And_Affordability', 'score': 0.006573802791535854},\n",
       " {'label': 'Business_Model_Resilience', 'score': 0.0028728994075208902},\n",
       " {'label': 'Competitive_Behavior', 'score': 0.0013157433131709695},\n",
       " {'label': 'Critical_Incident_Risk_Management', 'score': 0.893149197101593},\n",
       " {'label': 'Customer_Welfare', 'score': 0.001270620501600206},\n",
       " {'label': 'Director_Removal', 'score': 0.001540635945275426},\n",
       " {'label': 'Employee_Engagement_Inclusion_And_Diversity',\n",
       "  'score': 0.0010165564017370343},\n",
       " {'label': 'Employee_Health_And_Safety', 'score': 0.007751109078526497},\n",
       " {'label': 'Human_Rights_And_Community_Relations',\n",
       "  'score': 0.004350394010543823},\n",
       " {'label': 'Labor_Practices', 'score': 0.0014376810286194086},\n",
       " {'label': 'Management_Of_Legal_And_Regulatory_Framework',\n",
       "  'score': 0.0016854567220434546},\n",
       " {'label': 'Physical_Impacts_Of_Climate_Change',\n",
       "  'score': 0.024440577253699303},\n",
       " {'label': 'Product_Quality_And_Safety', 'score': 0.00173611706122756},\n",
       " {'label': 'Product_Design_And_Lifecycle_Management',\n",
       "  'score': 0.0010001574410125613},\n",
       " {'label': 'Selling_Practices_And_Product_Labeling',\n",
       "  'score': 0.0014641275629401207},\n",
       " {'label': 'Supply_Chain_Management', 'score': 0.004425734747201204},\n",
       " {'label': 'Systemic_Risk_Management', 'score': 0.005911513231694698},\n",
       " {'label': 'Waste_And_Hazardous_Materials_Management',\n",
       "  'score': 0.0009495638078078628},\n",
       " {'label': 'Water_And_Wastewater_Management', 'score': 0.0023226807825267315},\n",
       " {'label': 'Air_Quality', 'score': 0.019891975447535515},\n",
       " {'label': 'Customer_Privacy', 'score': 0.0015468051424250007},\n",
       " {'label': 'Ecological_Impacts', 'score': 0.0008839301881380379},\n",
       " {'label': 'Energy_Management', 'score': 0.004705420695245266},\n",
       " {'label': 'GHG_Emissions', 'score': 0.002012864453718066}]"
      ]
     },
     "execution_count": 63,
     "metadata": {},
     "output_type": "execute_result"
    }
   ],
   "source": [
    "nlp = pipeline(\"text-classification\", model=\"nbroad/ESG-BERT\")\n",
    "text = 'With the Rail Delivery Group, we created the Joint Executive  Oversight Team where we worked to coordinate an industry- wide response. And the Rail Industry Coronavirus Forum set  up Emergency Working Principles Agreements that enabled  Network Rail and the trades unions to prioritise activities  and work more quickly.  Our Board, its committees and the executive leadership  team have continued to meet online to ensure we meet the  needs of the railway. See page 15 for more on our response  to the pandemic.  In 2019 we started our Putting Passengers First journey with a  reorganisation. We devolved accountabilities and established  platforms for us to deliver value for money to those we serve.  We’ve made good progress, with new ways of working already  reaping rewards for our customers and passengers.  Because of the added challenges caused by the pandemic,  we’ve re organised ourselves to strengthen devolution  and be more agile and efficient. To give us fewer network- wide functions at executive level, we’ve transferred the  responsibilities of both Network Services and the Group  Transformation team into other existing network-wide  functions.  Network Services provided services to our routes and regions,  as well as network-wide operational oversight. We’ve put  Network Services’ route/region services together with Route  Services so there’s one place for interaction with internal  customers, routes and regions. And to support better  oversight and decision making across the full performance  cycle of the railway, we’ve moved Network Services’ activities  that help the rail network operate effectively as a system  into System Operator. We believe this will provide the best  operational service for our customers and passengers.  There were previously teams leading on transformation at  a network-wide level in Group Transformation and within  Network Services. We’ve now transferred these teams to  Group HR.  For more information on our Putting Passengers First  programmee se page 20.  94   /   Network Rail Limited   /   Annual Report and Accounts 2021  \\x0cRail Reform  On 20 May 2021 the Government published “Great British  Railways: Williams-Shapps Plan for Rail – White Paper”.  It shows how the Government “will make railways the  backbone of a cleaner, more environmentally friendly and  modern public transport system across the country.  “By replacing franchising, accelerating innovation and  integrating the railways, Great British Railway will deliver an  efficient, financially sustainable railway that meets the needs  of passengers and those who rely on rail on a daily basis.”  The Board fully supports the Williams-Shapps Plan for  Rail and will work closely with industry partners and key  stakeholders to deliver its objectives.'\n",
    "nlp(text, return_all_scores=True)"
   ]
  },
  {
   "cell_type": "code",
   "execution_count": 64,
   "id": "b6d305d0",
   "metadata": {},
   "outputs": [
    {
     "data": {
      "text/plain": [
       "[{'label': 'Business_Ethics', 'score': 0.050857044756412506},\n",
       " {'label': 'Data_Security', 'score': 0.01650450937449932},\n",
       " {'label': 'Access_And_Affordability', 'score': 0.02531871199607849},\n",
       " {'label': 'Business_Model_Resilience', 'score': 0.10618811100721359},\n",
       " {'label': 'Competitive_Behavior', 'score': 0.01642017439007759},\n",
       " {'label': 'Critical_Incident_Risk_Management', 'score': 0.0067586749792099},\n",
       " {'label': 'Customer_Welfare', 'score': 0.018877267837524414},\n",
       " {'label': 'Director_Removal', 'score': 0.051056887954473495},\n",
       " {'label': 'Employee_Engagement_Inclusion_And_Diversity',\n",
       "  'score': 0.12261566519737244},\n",
       " {'label': 'Employee_Health_And_Safety', 'score': 0.03285074234008789},\n",
       " {'label': 'Human_Rights_And_Community_Relations',\n",
       "  'score': 0.24431219696998596},\n",
       " {'label': 'Labor_Practices', 'score': 0.022593433037400246},\n",
       " {'label': 'Management_Of_Legal_And_Regulatory_Framework',\n",
       "  'score': 0.11321494728326797},\n",
       " {'label': 'Physical_Impacts_Of_Climate_Change',\n",
       "  'score': 0.009140374138951302},\n",
       " {'label': 'Product_Quality_And_Safety', 'score': 0.022785738110542297},\n",
       " {'label': 'Product_Design_And_Lifecycle_Management',\n",
       "  'score': 0.01664181426167488},\n",
       " {'label': 'Selling_Practices_And_Product_Labeling',\n",
       "  'score': 0.008919178508222103},\n",
       " {'label': 'Supply_Chain_Management', 'score': 0.016973545774817467},\n",
       " {'label': 'Systemic_Risk_Management', 'score': 0.025027912110090256},\n",
       " {'label': 'Waste_And_Hazardous_Materials_Management',\n",
       "  'score': 0.003467784496024251},\n",
       " {'label': 'Water_And_Wastewater_Management', 'score': 0.005566531326621771},\n",
       " {'label': 'Air_Quality', 'score': 0.007561314385384321},\n",
       " {'label': 'Customer_Privacy', 'score': 0.02267792634665966},\n",
       " {'label': 'Ecological_Impacts', 'score': 0.01932595670223236},\n",
       " {'label': 'Energy_Management', 'score': 0.006271973252296448},\n",
       " {'label': 'GHG_Emissions', 'score': 0.008071649819612503}]"
      ]
     },
     "execution_count": 64,
     "metadata": {},
     "output_type": "execute_result"
    }
   ],
   "source": [
    "nlp = pipeline(\"text-classification\", model=\"nbroad/ESG-BERT\")\n",
    "text = 'Engaging with our stakeholders  At Network Rail we consider our stakeholders to be at the  heart of our strategy. The interests of key stakeholders  and the matters set out in section 172 of the Companies  Act 2006 (i.e. promoting success of the company)  (see pages 24 to 25) have been considered in Board  discussions and decision making.   The Putting Passengers First programme was built on an  extensive listening exercise. We listened to a wide variety  of stakeholders to help us understand what the company  does well and where it needs to improve. We engaged with  more than 300 colleagues at all levels, across the country,  including frontline and office based, as well as external  partners and organisations. The outcomes informed our  Putting Passengers First programme.  Railway supervisory boards comprising Network Rail, train  operating companies, Transport Focus, and other key  stakeholders provide forums for discussions to identify  opportunities to improve the experience of all passengers  and freight users. The aim of these boards is to bring  track and train closer together. Meetings were held in the  Western route, Wales route, Anglia route, West Coast Main  Line, and Chilterns; the System Operator Advisory Board  provides a similar function.  Engaging with our workforce  We recognise that employees who feel actively engaged with  the company, its purpose, vision and strategy and who feel   Corporate governance  listened to, are more likely to feel that their work is meaningful  and will make a difference for users of the railway.  Since its development, the Network Rail Story (see page  8) has been the foundation of our workforce engagement.  We’ve a wide range of initiatives through which we engage  with our people, including: •  Putting Passengers First programme; •  systems thinking interventions; •  listening programmes; •  business briefings; •  employee networks; •  reverse mentoring •  Trade Union engagement; and •  employee newsletters (The Network and Front Line Focus).  As well as this, we use regular employee engagement  surveys to understand what our people are thinking and  feeling at a given time. The surveys show whether there has  been an improvement compared with previous years, and if  further action is needed. There are three surveys each year.  In 2021 there will be a full Your Voice survey, and two Your  Voice pulse surveys focussing on progress and direction.  Our Board is briefed on the outcome of the surveys and  considers any actions required. Our routes and functions  also run additional, locally focussed surveys if needed.   See How we engage with our stakeholders on pages 24 and  25 for more information on how and why we engage with   our workforce.'\n",
    "nlp(text, return_all_scores=True)"
   ]
  },
  {
   "cell_type": "code",
   "execution_count": 65,
   "id": "f34871bb",
   "metadata": {},
   "outputs": [
    {
     "data": {
      "text/html": [
       "<div>\n",
       "<style scoped>\n",
       "    .dataframe tbody tr th:only-of-type {\n",
       "        vertical-align: middle;\n",
       "    }\n",
       "\n",
       "    .dataframe tbody tr th {\n",
       "        vertical-align: top;\n",
       "    }\n",
       "\n",
       "    .dataframe thead th {\n",
       "        text-align: right;\n",
       "    }\n",
       "</style>\n",
       "<table border=\"1\" class=\"dataframe\">\n",
       "  <thead>\n",
       "    <tr style=\"text-align: right;\">\n",
       "      <th></th>\n",
       "      <th>Page number</th>\n",
       "      <th>Text</th>\n",
       "      <th>Label</th>\n",
       "      <th>score</th>\n",
       "      <th>label number</th>\n",
       "    </tr>\n",
       "  </thead>\n",
       "  <tbody>\n",
       "    <tr>\n",
       "      <th>0</th>\n",
       "      <td>1</td>\n",
       "      <td>CORPORATE GOVERNANCE 90 94 Our board of direct...</td>\n",
       "      <td>Business_Model_Resilience</td>\n",
       "      <td>0.140759</td>\n",
       "      <td>3</td>\n",
       "    </tr>\n",
       "    <tr>\n",
       "      <th>1</th>\n",
       "      <td>2</td>\n",
       "      <td>Prior to this he spent 14 years at Rolls-Royce...</td>\n",
       "      <td>Supply_Chain_Management</td>\n",
       "      <td>0.498325</td>\n",
       "      <td>17</td>\n",
       "    </tr>\n",
       "    <tr>\n",
       "      <th>2</th>\n",
       "      <td>3</td>\n",
       "      <td>Current external appointments A member of the ...</td>\n",
       "      <td>Employee_Health_And_Safety</td>\n",
       "      <td>0.573026</td>\n",
       "      <td>9</td>\n",
       "    </tr>\n",
       "    <tr>\n",
       "      <th>3</th>\n",
       "      <td>4</td>\n",
       "      <td>Silla is a fellow of the Chartered Association...</td>\n",
       "      <td>Director_Removal</td>\n",
       "      <td>0.195375</td>\n",
       "      <td>7</td>\n",
       "    </tr>\n",
       "    <tr>\n",
       "      <th>4</th>\n",
       "      <td>5</td>\n",
       "      <td>Fiona is also a non-executive director at The ...</td>\n",
       "      <td>Management_Of_Legal_And_Regulatory_Framework</td>\n",
       "      <td>0.370767</td>\n",
       "      <td>12</td>\n",
       "    </tr>\n",
       "  </tbody>\n",
       "</table>\n",
       "</div>"
      ],
      "text/plain": [
       "   Page number                                               Text  \\\n",
       "0            1  CORPORATE GOVERNANCE 90 94 Our board of direct...   \n",
       "1            2  Prior to this he spent 14 years at Rolls-Royce...   \n",
       "2            3  Current external appointments A member of the ...   \n",
       "3            4  Silla is a fellow of the Chartered Association...   \n",
       "4            5  Fiona is also a non-executive director at The ...   \n",
       "\n",
       "                                          Label     score  label number  \n",
       "0                     Business_Model_Resilience  0.140759             3  \n",
       "1                       Supply_Chain_Management  0.498325            17  \n",
       "2                    Employee_Health_And_Safety  0.573026             9  \n",
       "3                              Director_Removal  0.195375             7  \n",
       "4  Management_Of_Legal_And_Regulatory_Framework  0.370767            12  "
      ]
     },
     "execution_count": 65,
     "metadata": {},
     "output_type": "execute_result"
    }
   ],
   "source": [
    "datapath = f'/Users/Administrator/Downloads/ESG-BERT/ESG-BERT/networkrail.csv'\n",
    "df = pd.read_csv(datapath)\n",
    "df.head()"
   ]
  },
  {
   "cell_type": "code",
   "execution_count": 75,
   "id": "65416fbc",
   "metadata": {},
   "outputs": [
    {
     "data": {
      "text/plain": [
       "Text(0.5, 1.0, 'ESG scores')"
      ]
     },
     "execution_count": 75,
     "metadata": {},
     "output_type": "execute_result"
    },
    {
     "data": {
      "image/png": "[encoded data removed]",
      "text/plain": [
       "<Figure size 432x288 with 1 Axes>"
      ]
     },
     "metadata": {
      "needs_background": "light"
     },
     "output_type": "display_data"
    }
   ],
   "source": [
    "df.groupby(['Label']).size().plot.bar()\n",
    "plt.title(\"ESG scores\")"
   ]
  },
  {
   "cell_type": "code",
   "execution_count": null,
   "id": "42a74dd1",
   "metadata": {},
   "outputs": [],
   "source": []
  },
  {
   "cell_type": "code",
   "execution_count": 40,
   "id": "9ee4071b",
   "metadata": {},
   "outputs": [
    {
     "data": {
      "text/plain": [
       "<AxesSubplot:xlabel='score'>"
      ]
     },
     "execution_count": 40,
     "metadata": {},
     "output_type": "execute_result"
    },
    {
     "data": {
      "image/png": "[encoded data removed]",
      "text/plain": [
       "<Figure size 432x288 with 1 Axes>"
      ]
     },
     "metadata": {
      "needs_background": "light"
     },
     "output_type": "display_data"
    }
   ],
   "source": [
    "df.groupby(['score']).size().plot.bar()"
   ]
  },
  {
   "cell_type": "code",
   "execution_count": 41,
   "id": "2435043c",
   "metadata": {},
   "outputs": [],
   "source": [
    "from transformers import BertTokenizer\n",
    "\n",
    "tokenizer = BertTokenizer.from_pretrained('bert-base-cased')\n",
    "\n",
    "example_text = 'CORPORATE  GOVERNANCE  90  94  Our board of directors  Corporate governance report  104 Safety, health and environmental compliance committee report  107 Environmental sustainability committee report  109 Property supervisory committee report  111 Audit and risk committee report  117 Treasury committee report  119 Nomination and remuneration committee report  122 Directors’ remuneration report  134 Directors’ report  Annual Report and Accounts 2021   \\\\   Network Rail Limited   \\\\   89  \\x0cCorporate governance  OUR BOARD OF DIRECTORS  Sir Peter  Hendy CBE Chair  Andrew  Haines OBE Chief executive  Skills and experience Sir Peter was commissioner of Transport  for London (TfL) from 2006 to 2015. He  led the successful operation of London’s  transport for the 2012 Olympic and  Paralympic Games: his experience in  leading urban transport in a world city is  critical to chairing Network Rail. Sir Peter  is a past international and UK president  of the Chartered Institute of Logistics  and Transport, is a fellow of the Chartered  Institute of Highways and Transport, and  of the Institution of Civil Engineers. He was  knighted in the 2013 New Year’s Honours  List, having been made CBE in 2006  for services to public transport and the  community in London.  Current external appointments Chair of London Legacy Development  Corporation; trustee of the Science Museum  Group; trustee and director of the London  Transport Museum; chair of London Freight  Enforcement Partnership; patron of the  Independent Transport Commission;  Network Rail representative at the  Transport for the North; chair of the Euston  Partnership Board; and honorary president  of the London Bus Museum. He is currently  reviewing the connectivity of the United  Kingdom, reporting to the Prime Minister.  Committee membership Chair of the property supervisory  committee; nomination and remuneration  committee; safety, health and  environmental compliance committee.  Appointed to the Board: 2015  Skills and experience Andrew was previously chief executive officer of the Civil Aviation Authority  from 2009-2018. Prior to that he had a wide-ranging career within the rail  industry with British Rail, Railtrack, South West Trains and FirstGroup plc  where he led the rail division in England, Scotland and Wales. In addition,  he was a non-executive director at a rolling stock leasing company.   Andrew was awarded an OBE in the 2016 New Year Honour’s list for  services to transport and is a fellow of the Chartered Institute of Logistics  and Transport, the Royal Aeronautical Society, the Institute of Railway  Operators and the Permanent Way Institute.  Appointed to the Board: 2018  Jeremy  Westlake Chief financial  officer  Skills and experience Jeremy was formerly senior vice president for finance at Alstom Transport in  France, responsible for financial performance and control, project finance and  investor management.'\n",
    "bert_input = tokenizer(example_text,padding='max_length', max_length = 512, \n",
    "                       truncation=True, return_tensors=\"pt\")"
   ]
  },
  {
   "cell_type": "code",
   "execution_count": 27,
   "id": "b4c665f2",
   "metadata": {},
   "outputs": [
    {
     "name": "stdout",
     "output_type": "stream",
     "text": [
      "tensor([[  101, 18732, 20336,  9565, 13821,  2036, 27157, 17145, 15654, 15517,\n",
      "          2036,  3078,  5706,  3458,  2313,  1104,  6435, 15978, 12711,  2592,\n",
      "          9377,  9218,   117,  2332,  1105,  4801, 14037,  3914,  2592, 10428,\n",
      "          8019, 20598,  3914,  2592, 11523, 13563, 16014,  1183,  3914,  2592,\n",
      "         11084, 22139,  1204,  1105,  3187,  3914,  2592, 12737, 11712,  3914,\n",
      "          2592, 13606,  1302,  9204,  1105,  1231, 13601,  2511,  1891,  3914,\n",
      "          2592, 13381,  9970,   787,  1231, 13601,  2511,  1891,  2592, 15917,\n",
      "          9970,   787,  2592,  8451,  7178,  1105,   138, 14566, 17430, 17881,\n",
      "          1475,   165,  3998,  8654,  5975,   165,  5840, 15978, 12711,   152,\n",
      "         19556,   139, 23579, 23354, 11345,   141, 18172,  8231, 18082,  8900,\n",
      "          2203,  1943,  1124, 22600, 16779,  7507,  3217, 18745,  3965, 16611,\n",
      "          2534,  3275, 26210,  1105,  2541,  2203,  1943,  1108, 12425,  1104,\n",
      "          5371,  1111,  1498,   113,   157,  2087,  2162,   114,  1121,  1386,\n",
      "          1106,  1410,   119,  1124,  1521,  1103,  2265,  2805,  1104,  1498,\n",
      "           787,   188,  3936,  1111,  1103,  1368,  3557,  1105, 19099,  2957,\n",
      "           131,  1117,  2541,  1107,  2020,  3953,  3936,  1107,   170,  1362,\n",
      "          1331,  1110,  3607,  1106,  2643,  1158,  3998,  8654,   119,  2203,\n",
      "          1943,  1110,   170,  1763,  1835,  1105,  1993,  2084,  1104,  1103,\n",
      "         27344,  2024,  1104, 25486,  1105,  5371,   117,  1110,   170,  3235,\n",
      "          1104,  1103, 27344,  2024,  1104, 27204,  1105,  5371,   117,  1105,\n",
      "          1104,  1103, 11127,  1104,  3145,  8665,   119,  1124,  1108, 21905,\n",
      "          1107,  1103,  1381,  1203,  2381,   787,   188, 14670,  5619,   117,\n",
      "          1515,  1151,  1189, 16779,  1107,  1386,  1111,  1826,  1106,  1470,\n",
      "          3936,  1105,  1103,  1661,  1107,  1498,   119,  9493,  6298, 16323,\n",
      "          7507,  1104,  1498, 15512,  3273,  3436,   132, 17665,  1104,  1103,\n",
      "          2444,  2143,  1990,   132, 17665,  1105,  1900,  1104,  1103,  1498,\n",
      "          5371,  2143,   132,  2643,  1104,  1498, 13359,  6851, 10245, 22990,\n",
      "         17330,   132, 10063,  1104,  1103,  4949,  5371,  2827,   132,  3998,\n",
      "          8654,  4702,  1120,  1103,  5371,  1111,  1103,  1456,   132,  2643,\n",
      "          1104,  1103,   142,  8954,  1320, 17330,  2464,   132,  1105,  7316,\n",
      "          2084,  1104,  1103,  1498,  8947,  2143,   119,  1124,  1110,  1971,\n",
      "         19730,  1103, 24466,  1104,  1103,  1244,  2325,   117,  7516,  1106,\n",
      "          1103,  3460,  2110,   119,  2341,  5467,  7507,  1104,  1103,  2400,\n",
      "         16014,  1183,  3914,   132,  6294,  1105,  1231, 13601,  2511,  1891,\n",
      "          3914,   132,  3429,   117,  2332,  1105,  4801, 14037,  3914,   119,\n",
      "         23598,  1106,  1103,  2464,   131,  1410, 26210,  1105,  2541,  3217,\n",
      "          1108,  2331,  2705,  3275,  2575,  1104,  1103,  3145,  7650,  5987,\n",
      "          1121,  1371,   118,  1857,   119,  4602,  1106,  1115,  1119,  1125,\n",
      "           170,  2043,   118,  7032,  1578,  1439,  1103,  4356,  2380,  1114,\n",
      "          1418,  8654,   117,  8654, 22117,   117,  1375,  1537, 20223,  1105,\n",
      "          1752,  2349, 24220, 23892,  1187,  1119,  1521,  1103,  4356,  2417,\n",
      "          1107,  1652,   117,  3030,  1105,  2717,   119,  1130,  1901,   117,\n",
      "          1119,  1108,   170,  1664,   118,  3275,  1900,  1120,   170,  6362,\n",
      "          4482,  5837, 17764,  1419,   119,  3217,  1108,  2152,  1126, 16611,\n",
      "          1107,  1103,  1446,  1203,  2381, 16451,   787,   188,  2190,  1111,\n",
      "          1826,  1106,  3936,  1105,  1110,   170,  3235,  1104,  1103, 27344,\n",
      "          2024,  1104, 25486,  1105,  5371,   117,  1103,  1787, 23877,  1605,\n",
      "         19748,  2015,   117,  1103,  2024,  1104,  2847,  5434,  5067,  1105,\n",
      "          1103, 16363,  4714,  2024,   119, 23598,  1106,  1103,  2464,   131,\n",
      "          1857,  6983,  1537, 13238,  2534,  2798,  2575, 26210,  1105,  2541,\n",
      "          6983,  1108,  3147,  2682,  4711,  2084,  1111,  7845,  1120,  2586,\n",
      "         12223,   102]])\n",
      "tensor([[0, 0, 0, 0, 0, 0, 0, 0, 0, 0, 0, 0, 0, 0, 0, 0, 0, 0, 0, 0, 0, 0, 0, 0,\n",
      "         0, 0, 0, 0, 0, 0, 0, 0, 0, 0, 0, 0, 0, 0, 0, 0, 0, 0, 0, 0, 0, 0, 0, 0,\n",
      "         0, 0, 0, 0, 0, 0, 0, 0, 0, 0, 0, 0, 0, 0, 0, 0, 0, 0, 0, 0, 0, 0, 0, 0,\n",
      "         0, 0, 0, 0, 0, 0, 0, 0, 0, 0, 0, 0, 0, 0, 0, 0, 0, 0, 0, 0, 0, 0, 0, 0,\n",
      "         0, 0, 0, 0, 0, 0, 0, 0, 0, 0, 0, 0, 0, 0, 0, 0, 0, 0, 0, 0, 0, 0, 0, 0,\n",
      "         0, 0, 0, 0, 0, 0, 0, 0, 0, 0, 0, 0, 0, 0, 0, 0, 0, 0, 0, 0, 0, 0, 0, 0,\n",
      "         0, 0, 0, 0, 0, 0, 0, 0, 0, 0, 0, 0, 0, 0, 0, 0, 0, 0, 0, 0, 0, 0, 0, 0,\n",
      "         0, 0, 0, 0, 0, 0, 0, 0, 0, 0, 0, 0, 0, 0, 0, 0, 0, 0, 0, 0, 0, 0, 0, 0,\n",
      "         0, 0, 0, 0, 0, 0, 0, 0, 0, 0, 0, 0, 0, 0, 0, 0, 0, 0, 0, 0, 0, 0, 0, 0,\n",
      "         0, 0, 0, 0, 0, 0, 0, 0, 0, 0, 0, 0, 0, 0, 0, 0, 0, 0, 0, 0, 0, 0, 0, 0,\n",
      "         0, 0, 0, 0, 0, 0, 0, 0, 0, 0, 0, 0, 0, 0, 0, 0, 0, 0, 0, 0, 0, 0, 0, 0,\n",
      "         0, 0, 0, 0, 0, 0, 0, 0, 0, 0, 0, 0, 0, 0, 0, 0, 0, 0, 0, 0, 0, 0, 0, 0,\n",
      "         0, 0, 0, 0, 0, 0, 0, 0, 0, 0, 0, 0, 0, 0, 0, 0, 0, 0, 0, 0, 0, 0, 0, 0,\n",
      "         0, 0, 0, 0, 0, 0, 0, 0, 0, 0, 0, 0, 0, 0, 0, 0, 0, 0, 0, 0, 0, 0, 0, 0,\n",
      "         0, 0, 0, 0, 0, 0, 0, 0, 0, 0, 0, 0, 0, 0, 0, 0, 0, 0, 0, 0, 0, 0, 0, 0,\n",
      "         0, 0, 0, 0, 0, 0, 0, 0, 0, 0, 0, 0, 0, 0, 0, 0, 0, 0, 0, 0, 0, 0, 0, 0,\n",
      "         0, 0, 0, 0, 0, 0, 0, 0, 0, 0, 0, 0, 0, 0, 0, 0, 0, 0, 0, 0, 0, 0, 0, 0,\n",
      "         0, 0, 0, 0, 0, 0, 0, 0, 0, 0, 0, 0, 0, 0, 0, 0, 0, 0, 0, 0, 0, 0, 0, 0,\n",
      "         0, 0, 0, 0, 0, 0, 0, 0, 0, 0, 0, 0, 0, 0, 0, 0, 0, 0, 0, 0, 0, 0, 0, 0,\n",
      "         0, 0, 0, 0, 0, 0, 0, 0, 0, 0, 0, 0, 0, 0, 0, 0, 0, 0, 0, 0, 0, 0, 0, 0,\n",
      "         0, 0, 0, 0, 0, 0, 0, 0, 0, 0, 0, 0, 0, 0, 0, 0, 0, 0, 0, 0, 0, 0, 0, 0,\n",
      "         0, 0, 0, 0, 0, 0, 0, 0]])\n",
      "tensor([[1, 1, 1, 1, 1, 1, 1, 1, 1, 1, 1, 1, 1, 1, 1, 1, 1, 1, 1, 1, 1, 1, 1, 1,\n",
      "         1, 1, 1, 1, 1, 1, 1, 1, 1, 1, 1, 1, 1, 1, 1, 1, 1, 1, 1, 1, 1, 1, 1, 1,\n",
      "         1, 1, 1, 1, 1, 1, 1, 1, 1, 1, 1, 1, 1, 1, 1, 1, 1, 1, 1, 1, 1, 1, 1, 1,\n",
      "         1, 1, 1, 1, 1, 1, 1, 1, 1, 1, 1, 1, 1, 1, 1, 1, 1, 1, 1, 1, 1, 1, 1, 1,\n",
      "         1, 1, 1, 1, 1, 1, 1, 1, 1, 1, 1, 1, 1, 1, 1, 1, 1, 1, 1, 1, 1, 1, 1, 1,\n",
      "         1, 1, 1, 1, 1, 1, 1, 1, 1, 1, 1, 1, 1, 1, 1, 1, 1, 1, 1, 1, 1, 1, 1, 1,\n",
      "         1, 1, 1, 1, 1, 1, 1, 1, 1, 1, 1, 1, 1, 1, 1, 1, 1, 1, 1, 1, 1, 1, 1, 1,\n",
      "         1, 1, 1, 1, 1, 1, 1, 1, 1, 1, 1, 1, 1, 1, 1, 1, 1, 1, 1, 1, 1, 1, 1, 1,\n",
      "         1, 1, 1, 1, 1, 1, 1, 1, 1, 1, 1, 1, 1, 1, 1, 1, 1, 1, 1, 1, 1, 1, 1, 1,\n",
      "         1, 1, 1, 1, 1, 1, 1, 1, 1, 1, 1, 1, 1, 1, 1, 1, 1, 1, 1, 1, 1, 1, 1, 1,\n",
      "         1, 1, 1, 1, 1, 1, 1, 1, 1, 1, 1, 1, 1, 1, 1, 1, 1, 1, 1, 1, 1, 1, 1, 1,\n",
      "         1, 1, 1, 1, 1, 1, 1, 1, 1, 1, 1, 1, 1, 1, 1, 1, 1, 1, 1, 1, 1, 1, 1, 1,\n",
      "         1, 1, 1, 1, 1, 1, 1, 1, 1, 1, 1, 1, 1, 1, 1, 1, 1, 1, 1, 1, 1, 1, 1, 1,\n",
      "         1, 1, 1, 1, 1, 1, 1, 1, 1, 1, 1, 1, 1, 1, 1, 1, 1, 1, 1, 1, 1, 1, 1, 1,\n",
      "         1, 1, 1, 1, 1, 1, 1, 1, 1, 1, 1, 1, 1, 1, 1, 1, 1, 1, 1, 1, 1, 1, 1, 1,\n",
      "         1, 1, 1, 1, 1, 1, 1, 1, 1, 1, 1, 1, 1, 1, 1, 1, 1, 1, 1, 1, 1, 1, 1, 1,\n",
      "         1, 1, 1, 1, 1, 1, 1, 1, 1, 1, 1, 1, 1, 1, 1, 1, 1, 1, 1, 1, 1, 1, 1, 1,\n",
      "         1, 1, 1, 1, 1, 1, 1, 1, 1, 1, 1, 1, 1, 1, 1, 1, 1, 1, 1, 1, 1, 1, 1, 1,\n",
      "         1, 1, 1, 1, 1, 1, 1, 1, 1, 1, 1, 1, 1, 1, 1, 1, 1, 1, 1, 1, 1, 1, 1, 1,\n",
      "         1, 1, 1, 1, 1, 1, 1, 1, 1, 1, 1, 1, 1, 1, 1, 1, 1, 1, 1, 1, 1, 1, 1, 1,\n",
      "         1, 1, 1, 1, 1, 1, 1, 1, 1, 1, 1, 1, 1, 1, 1, 1, 1, 1, 1, 1, 1, 1, 1, 1,\n",
      "         1, 1, 1, 1, 1, 1, 1, 1]])\n"
     ]
    }
   ],
   "source": [
    "print(bert_input['input_ids'])\n",
    "print(bert_input['token_type_ids'])\n",
    "print(bert_input['attention_mask'])"
   ]
  },
  {
   "cell_type": "code",
   "execution_count": 28,
   "id": "9b87b608",
   "metadata": {},
   "outputs": [],
   "source": [
    "example_text = tokenizer.decode(bert_input.input_ids[0])"
   ]
  },
  {
   "cell_type": "code",
   "execution_count": 29,
   "id": "0471f05c",
   "metadata": {},
   "outputs": [
    {
     "name": "stdout",
     "output_type": "stream",
     "text": [
      "[CLS] CORPORATE GOVERNANCE 90 94 Our board of directors Corporate governance report 104 Safety, health and environmental compliance committee report 107 Environmental sustainability committee report 109 Property supervisory committee report 111 Audit and risk committee report 117 Treasury committee report 119 Nomination and remuneration committee report 122 Directors ’ remuneration report 134 Directors ’ report Annual Report and Accounts 2021 \\ Network Rail Limited \\ 89 Corporate governance OUR BOARD OF DIRECTORS Sir Peter Hendy CBE Chair Andrew Haines OBE Chief executive Skills and experience Sir Peter was commissioner of Transport for London ( TfL ) from 2006 to 2015. He led the successful operation of London ’ s transport for the 2012 Olympic and Paralympic Games : his experience in leading urban transport in a world city is critical to chairing Network Rail. Sir Peter is a past international and UK president of the Chartered Institute of Logistics and Transport, is a fellow of the Chartered Institute of Highways and Transport, and of the Institution of Civil Engineers. He was knighted in the 2013 New Year ’ s Honours List, having been made CBE in 2006 for services to public transport and the community in London. Current external appointments Chair of London Legacy Development Corporation ; trustee of the Science Museum Group ; trustee and director of the London Transport Museum ; chair of London Freight Enforcement Partnership ; patron of the Independent Transport Commission ; Network Rail representative at the Transport for the North ; chair of the Euston Partnership Board ; and honorary president of the London Bus Museum. He is currently reviewing the connectivity of the United Kingdom, reporting to the Prime Minister. Committee membership Chair of the property supervisory committee ; nomination and remuneration committee ; safety, health and environmental compliance committee. Appointed to the Board : 2015 Skills and experience Andrew was previously chief executive officer of the Civil Aviation Authority from 2009 - 2018. Prior to that he had a wide - ranging career within the rail industry with British Rail, Railtrack, South West Trains and FirstGroup plc where he led the rail division in England, Scotland and Wales. In addition, he was a non - executive director at a rolling stock leasing company. Andrew was awarded an OBE in the 2016 New Year Honour ’ s list for services to transport and is a fellow of the Chartered Institute of Logistics and Transport, the Royal Aeronautical Society, the Institute of Railway Operators and the Permanent Way Institute. Appointed to the Board : 2018 Jeremy Westlake Chief financial officer Skills and experience Jeremy was formerly senior vice president for finance at Alsto [SEP]\n"
     ]
    }
   ],
   "source": [
    "print(example_text)"
   ]
  },
  {
   "cell_type": "code",
   "execution_count": 30,
   "id": "6687a166",
   "metadata": {},
   "outputs": [],
   "source": [
    "import torch\n",
    "import numpy as np\n",
    "from transformers import BertTokenizer\n",
    "\n",
    "tokenizer = BertTokenizer.from_pretrained('bert-base-cased')\n",
    "labels = {'Business_Ethics':  0,\n",
    "        'Data_Security':  1,\n",
    "        'Access_And_Affordability':  2,\n",
    "        'Business_Model_Resilience':  3,\n",
    "        'Competitive_Behavior':  4,\n",
    "        'Critical_Incident_Risk_Management':  5,\n",
    "        'Customer_Welfare':  6,\n",
    "        'Director_Removal':  7,\n",
    "        'Employee_Engagement_Inclusion_And_Diversity':  8,\n",
    "        'Employee_Health_And_Safety':  9,\n",
    "        'Human_Rights_And_Community_Relations':  10,\n",
    "        'Labor_Practices':  11,\n",
    "        'Management_Of_Legal_And_Regulatory_Framework':  12,\n",
    "        'Physical_Impacts_Of_Climate_Change':  13,\n",
    "        'Product_Quality_And_Safety':  14,\n",
    "        'Product_Design_And_Lifecycle_Management':  15,\n",
    "        'Selling_Practices_And_Product_Labeling':  16,\n",
    "        'Supply_Chain_Management':  17,\n",
    "        'Systemic_Risk_Management':  18,\n",
    "        'label__Waste_And_Hazardous_Materials_Management':  19,\n",
    "        'Water_And_Wastewater_Management':  20,\n",
    "        'Air_Quality':  21,\n",
    "        'Customer_Privacy':  22,\n",
    "        'Ecological_Impacts':  23,\n",
    "        'Energy_Management':  24,\n",
    "        'GHG_Emissions':  25\n",
    "          }\n",
    "\n",
    "class Dataset(torch.utils.data.Dataset):\n",
    "\n",
    "    def __init__(self, df):\n",
    "\n",
    "        self.labels = [labels[label] for label in df['Label']]\n",
    "        self.texts = [tokenizer(text, \n",
    "                               padding='max_length', max_length = 512, truncation=True,\n",
    "                                return_tensors=\"pt\") for text in df['text']]\n",
    "\n",
    "    def classes(self):\n",
    "        return self.labels\n",
    "\n",
    "    def __len__(self):\n",
    "        return len(self.labels)\n",
    "\n",
    "    def get_batch_labels(self, idx):\n",
    "        # Fetch a batch of labels\n",
    "        return np.array(self.labels[idx])\n",
    "\n",
    "    def get_batch_texts(self, idx):\n",
    "        # Fetch a batch of inputs\n",
    "        return self.texts[idx]\n",
    "\n",
    "    def __getitem__(self, idx):\n",
    "\n",
    "        batch_texts = self.get_batch_texts(idx)\n",
    "        batch_y = self.get_batch_labels(idx)\n",
    "\n",
    "        return batch_texts, batch_y"
   ]
  },
  {
   "cell_type": "code",
   "execution_count": 31,
   "id": "c4b92d34",
   "metadata": {},
   "outputs": [],
   "source": [
    "np.random.seed(112)\n",
    "df_train, df_val, df_test = np.split(df.sample(frac=1, random_state=42), \n",
    "                                     [int(.8*len(df)), int(.9*len(df))])\n"
   ]
  },
  {
   "cell_type": "code",
   "execution_count": 32,
   "id": "d219caec",
   "metadata": {},
   "outputs": [
    {
     "name": "stdout",
     "output_type": "stream",
     "text": [
      "17 2 3\n"
     ]
    }
   ],
   "source": [
    "print(len(df_train),len(df_val), len(df_test))"
   ]
  },
  {
   "cell_type": "code",
   "execution_count": 33,
   "id": "a704b7fe",
   "metadata": {},
   "outputs": [],
   "source": [
    "from torch import nn\n",
    "from transformers import BertModel\n",
    "\n",
    "class BertClassifier(nn.Module):\n",
    "\n",
    "    def __init__(self, dropout=0.5):\n",
    "\n",
    "        super(BertClassifier, self).__init__()\n",
    "\n",
    "        self.bert = BertModel.from_pretrained('bert-base-cased')\n",
    "        self.dropout = nn.Dropout(dropout)\n",
    "        self.linear = nn.Linear(768, 5)\n",
    "        self.relu = nn.ReLU()\n",
    "\n",
    "    def forward(self, input_id, mask):\n",
    "\n",
    "        _, pooled_output = self.bert(input_ids= input_id, attention_mask=mask,return_dict=False)\n",
    "        dropout_output = self.dropout(pooled_output)\n",
    "        linear_output = self.linear(dropout_output)\n",
    "        final_layer = self.relu(linear_output)\n",
    "\n",
    "        return final_layer"
   ]
  },
  {
   "cell_type": "code",
   "execution_count": null,
   "id": "4d37bccf",
   "metadata": {},
   "outputs": [],
   "source": []
  },
  {
   "cell_type": "code",
   "execution_count": null,
   "id": "530a61a8",
   "metadata": {},
   "outputs": [],
   "source": []
  }
 ],
 "metadata": {
  "kernelspec": {
   "display_name": "Python 3 (ipykernel)",
   "language": "python",
   "name": "python3"
  },
  "language_info": {
   "codemirror_mode": {
    "name": "ipython",
    "version": 3
   },
   "file_extension": ".py",
   "mimetype": "text/x-python",
   "name": "python",
   "nbconvert_exporter": "python",
   "pygments_lexer": "ipython3",
   "version": "3.9.7"
  }
 },
 "nbformat": 4,
 "nbformat_minor": 5
}
